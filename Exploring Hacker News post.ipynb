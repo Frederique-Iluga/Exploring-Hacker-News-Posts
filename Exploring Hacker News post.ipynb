{
 "cells": [
  {
   "cell_type": "markdown",
   "metadata": {},
   "source": [
    "# Exploring Hacker News Posts\n",
    "---\n",
    "\n",
    "## Introduction\n",
    "In this notebook, I will explore the [Hacker News](https://news.ycombinator.com/) posts. \n",
    "Hacker News is a site started by the startup incubator Y Combinator, where user-submitted stories (known as \"posts\") are voted and commented upon, similar to reddit. Hacker News is extremely popular in technology and startup circles, and posts that make it to the top of Hacker News' listings can get hundreds of thousands of visitors as a result.\n",
    "\n",
    "I'm specifically interested in posts whose titles begin with either Ask HN or Show HN. Users submit Ask HN posts to ask the Hacker News community a specific question. Below are a couple examples:\n",
    "\n",
    "```\n",
    "Ask HN: How to improve my personal website?\n",
    "Ask HN: Am I the only one outraged by Twitter shutting down share counts?\n",
    "Ask HN: Aby recent changes to CSS that broke mobile?\n",
    "```\n",
    "Likewise, users submit Show HN posts to show the Hacker News community a project, product, or just generally something interesting. Below are a couple of examples:\n",
    "\n",
    "```\n",
    "Show HN: Wio Link  ESP8266 Based Web of Things Hardware Development Platform'\n",
    "Show HN: Something pointless I made\n",
    "Show HN: Shanhu.io, a programming playground powered by e8vm \n",
    "```\n",
    "\n",
    "I'll compare these two types of posts to determine the following:\n",
    "\n",
    "* Do Ask HN or Show HN receive more comments on average?\n",
    "* Do posts created at a certain time receive more comments on average?\n",
    "\n",
    "## Gather\n",
    "The data set is already gathered and is available as a .csv file with 20k posts"
   ]
  },
  {
   "cell_type": "code",
   "execution_count": 1,
   "metadata": {},
   "outputs": [],
   "source": [
    "import pandas as pd\n",
    "import matplotlib\n",
    "%matplotlib inline"
   ]
  },
  {
   "cell_type": "code",
   "execution_count": 2,
   "metadata": {},
   "outputs": [],
   "source": [
    "main_df = pd.read_csv('hacker_news.csv')"
   ]
  },
  {
   "cell_type": "code",
   "execution_count": 3,
   "metadata": {},
   "outputs": [
    {
     "data": {
      "text/html": [
       "<div>\n",
       "<style scoped>\n",
       "    .dataframe tbody tr th:only-of-type {\n",
       "        vertical-align: middle;\n",
       "    }\n",
       "\n",
       "    .dataframe tbody tr th {\n",
       "        vertical-align: top;\n",
       "    }\n",
       "\n",
       "    .dataframe thead th {\n",
       "        text-align: right;\n",
       "    }\n",
       "</style>\n",
       "<table border=\"1\" class=\"dataframe\">\n",
       "  <thead>\n",
       "    <tr style=\"text-align: right;\">\n",
       "      <th></th>\n",
       "      <th>id</th>\n",
       "      <th>title</th>\n",
       "      <th>url</th>\n",
       "      <th>num_points</th>\n",
       "      <th>num_comments</th>\n",
       "      <th>author</th>\n",
       "      <th>created_at</th>\n",
       "    </tr>\n",
       "  </thead>\n",
       "  <tbody>\n",
       "    <tr>\n",
       "      <th>0</th>\n",
       "      <td>12224879</td>\n",
       "      <td>Interactive Dynamic Video</td>\n",
       "      <td>http://www.interactivedynamicvideo.com/</td>\n",
       "      <td>386</td>\n",
       "      <td>52</td>\n",
       "      <td>ne0phyte</td>\n",
       "      <td>8/4/2016 11:52</td>\n",
       "    </tr>\n",
       "    <tr>\n",
       "      <th>1</th>\n",
       "      <td>10975351</td>\n",
       "      <td>How to Use Open Source and Shut the Fuck Up at...</td>\n",
       "      <td>http://hueniverse.com/2016/01/26/how-to-use-op...</td>\n",
       "      <td>39</td>\n",
       "      <td>10</td>\n",
       "      <td>josep2</td>\n",
       "      <td>1/26/2016 19:30</td>\n",
       "    </tr>\n",
       "    <tr>\n",
       "      <th>2</th>\n",
       "      <td>11964716</td>\n",
       "      <td>Florida DJs May Face Felony for April Fools' W...</td>\n",
       "      <td>http://www.thewire.com/entertainment/2013/04/f...</td>\n",
       "      <td>2</td>\n",
       "      <td>1</td>\n",
       "      <td>vezycash</td>\n",
       "      <td>6/23/2016 22:20</td>\n",
       "    </tr>\n",
       "    <tr>\n",
       "      <th>3</th>\n",
       "      <td>11919867</td>\n",
       "      <td>Technology ventures: From Idea to Enterprise</td>\n",
       "      <td>https://www.amazon.com/Technology-Ventures-Ent...</td>\n",
       "      <td>3</td>\n",
       "      <td>1</td>\n",
       "      <td>hswarna</td>\n",
       "      <td>6/17/2016 0:01</td>\n",
       "    </tr>\n",
       "    <tr>\n",
       "      <th>4</th>\n",
       "      <td>10301696</td>\n",
       "      <td>Note by Note: The Making of Steinway L1037 (2007)</td>\n",
       "      <td>http://www.nytimes.com/2007/11/07/movies/07ste...</td>\n",
       "      <td>8</td>\n",
       "      <td>2</td>\n",
       "      <td>walterbell</td>\n",
       "      <td>9/30/2015 4:12</td>\n",
       "    </tr>\n",
       "  </tbody>\n",
       "</table>\n",
       "</div>"
      ],
      "text/plain": [
       "         id                                              title  \\\n",
       "0  12224879                          Interactive Dynamic Video   \n",
       "1  10975351  How to Use Open Source and Shut the Fuck Up at...   \n",
       "2  11964716  Florida DJs May Face Felony for April Fools' W...   \n",
       "3  11919867       Technology ventures: From Idea to Enterprise   \n",
       "4  10301696  Note by Note: The Making of Steinway L1037 (2007)   \n",
       "\n",
       "                                                 url  num_points  \\\n",
       "0            http://www.interactivedynamicvideo.com/         386   \n",
       "1  http://hueniverse.com/2016/01/26/how-to-use-op...          39   \n",
       "2  http://www.thewire.com/entertainment/2013/04/f...           2   \n",
       "3  https://www.amazon.com/Technology-Ventures-Ent...           3   \n",
       "4  http://www.nytimes.com/2007/11/07/movies/07ste...           8   \n",
       "\n",
       "   num_comments      author       created_at  \n",
       "0            52    ne0phyte   8/4/2016 11:52  \n",
       "1            10      josep2  1/26/2016 19:30  \n",
       "2             1    vezycash  6/23/2016 22:20  \n",
       "3             1     hswarna   6/17/2016 0:01  \n",
       "4             2  walterbell   9/30/2015 4:12  "
      ]
     },
     "execution_count": 3,
     "metadata": {},
     "output_type": "execute_result"
    }
   ],
   "source": [
    "main_df.head()"
   ]
  },
  {
   "cell_type": "markdown",
   "metadata": {},
   "source": [
    "Below are descriptions of the columns:\n",
    "\n",
    "* id: The unique identifier from Hacker News for the post\n",
    "* title: The title of the post\n",
    "* url: The URL that the posts links to, if the post has a URL\n",
    "* num_points: The number of points the post acquired, calculated as the total number of upvotes minus the total number of downvotes\n",
    "* num_comments: The number of comments that were made on the post\n",
    "* author: The username of the person who submitted the post\n",
    "* created_at: The date and time at which the post was submitted\n",
    "\n",
    "Remember I only want to analyze posts whose titles begin with either Ask HN or Show HN."
   ]
  },
  {
   "cell_type": "code",
   "execution_count": 4,
   "metadata": {},
   "outputs": [],
   "source": [
    "# Creating a new Dataframe that only contains posts with titles Ask HN or Show HN\n",
    "df = main_df[main_df.title.str.contains('^Ask HN|^Show HN')]\n",
    "df = df.reset_index()\n",
    "df = df.drop(columns='index')"
   ]
  },
  {
   "cell_type": "code",
   "execution_count": 5,
   "metadata": {},
   "outputs": [],
   "source": [
    "# Creating a new column 'type' to determine whether this post is Ask or Show HN\n",
    "df['type'] = df.title.str.extract(r'(.*HN):')"
   ]
  },
  {
   "cell_type": "code",
   "execution_count": 6,
   "metadata": {},
   "outputs": [
    {
     "data": {
      "text/html": [
       "<div>\n",
       "<style scoped>\n",
       "    .dataframe tbody tr th:only-of-type {\n",
       "        vertical-align: middle;\n",
       "    }\n",
       "\n",
       "    .dataframe tbody tr th {\n",
       "        vertical-align: top;\n",
       "    }\n",
       "\n",
       "    .dataframe thead th {\n",
       "        text-align: right;\n",
       "    }\n",
       "</style>\n",
       "<table border=\"1\" class=\"dataframe\">\n",
       "  <thead>\n",
       "    <tr style=\"text-align: right;\">\n",
       "      <th></th>\n",
       "      <th>id</th>\n",
       "      <th>title</th>\n",
       "      <th>url</th>\n",
       "      <th>num_points</th>\n",
       "      <th>num_comments</th>\n",
       "      <th>author</th>\n",
       "      <th>created_at</th>\n",
       "      <th>type</th>\n",
       "    </tr>\n",
       "  </thead>\n",
       "  <tbody>\n",
       "    <tr>\n",
       "      <th>0</th>\n",
       "      <td>12296411</td>\n",
       "      <td>Ask HN: How to improve my personal website?</td>\n",
       "      <td>NaN</td>\n",
       "      <td>2</td>\n",
       "      <td>6</td>\n",
       "      <td>ahmedbaracat</td>\n",
       "      <td>8/16/2016 9:55</td>\n",
       "      <td>Ask HN</td>\n",
       "    </tr>\n",
       "    <tr>\n",
       "      <th>1</th>\n",
       "      <td>10627194</td>\n",
       "      <td>Show HN: Wio Link  ESP8266 Based Web of Things...</td>\n",
       "      <td>https://iot.seeed.cc</td>\n",
       "      <td>26</td>\n",
       "      <td>22</td>\n",
       "      <td>kfihihc</td>\n",
       "      <td>11/25/2015 14:03</td>\n",
       "      <td>Show HN</td>\n",
       "    </tr>\n",
       "    <tr>\n",
       "      <th>2</th>\n",
       "      <td>10610020</td>\n",
       "      <td>Ask HN: Am I the only one outraged by Twitter ...</td>\n",
       "      <td>NaN</td>\n",
       "      <td>28</td>\n",
       "      <td>29</td>\n",
       "      <td>tkfx</td>\n",
       "      <td>11/22/2015 13:43</td>\n",
       "      <td>Ask HN</td>\n",
       "    </tr>\n",
       "    <tr>\n",
       "      <th>3</th>\n",
       "      <td>11610310</td>\n",
       "      <td>Ask HN: Aby recent changes to CSS that broke m...</td>\n",
       "      <td>NaN</td>\n",
       "      <td>1</td>\n",
       "      <td>1</td>\n",
       "      <td>polskibus</td>\n",
       "      <td>5/2/2016 10:14</td>\n",
       "      <td>Ask HN</td>\n",
       "    </tr>\n",
       "    <tr>\n",
       "      <th>4</th>\n",
       "      <td>12210105</td>\n",
       "      <td>Ask HN: Looking for Employee #3 How do I do it?</td>\n",
       "      <td>NaN</td>\n",
       "      <td>1</td>\n",
       "      <td>3</td>\n",
       "      <td>sph130</td>\n",
       "      <td>8/2/2016 14:20</td>\n",
       "      <td>Ask HN</td>\n",
       "    </tr>\n",
       "  </tbody>\n",
       "</table>\n",
       "</div>"
      ],
      "text/plain": [
       "         id                                              title  \\\n",
       "0  12296411        Ask HN: How to improve my personal website?   \n",
       "1  10627194  Show HN: Wio Link  ESP8266 Based Web of Things...   \n",
       "2  10610020  Ask HN: Am I the only one outraged by Twitter ...   \n",
       "3  11610310  Ask HN: Aby recent changes to CSS that broke m...   \n",
       "4  12210105    Ask HN: Looking for Employee #3 How do I do it?   \n",
       "\n",
       "                    url  num_points  num_comments        author  \\\n",
       "0                   NaN           2             6  ahmedbaracat   \n",
       "1  https://iot.seeed.cc          26            22       kfihihc   \n",
       "2                   NaN          28            29          tkfx   \n",
       "3                   NaN           1             1     polskibus   \n",
       "4                   NaN           1             3        sph130   \n",
       "\n",
       "         created_at     type  \n",
       "0    8/16/2016 9:55   Ask HN  \n",
       "1  11/25/2015 14:03  Show HN  \n",
       "2  11/22/2015 13:43   Ask HN  \n",
       "3    5/2/2016 10:14   Ask HN  \n",
       "4    8/2/2016 14:20   Ask HN  "
      ]
     },
     "execution_count": 6,
     "metadata": {},
     "output_type": "execute_result"
    }
   ],
   "source": [
    "df.head()"
   ]
  },
  {
   "cell_type": "markdown",
   "metadata": {},
   "source": [
    "## Assess\n",
    "I will now assess our data set for any available quality or tidiness issues"
   ]
  },
  {
   "cell_type": "code",
   "execution_count": 7,
   "metadata": {
    "scrolled": true
   },
   "outputs": [
    {
     "name": "stdout",
     "output_type": "stream",
     "text": [
      "<class 'pandas.core.frame.DataFrame'>\n",
      "RangeIndex: 2903 entries, 0 to 2902\n",
      "Data columns (total 8 columns):\n",
      " #   Column        Non-Null Count  Dtype \n",
      "---  ------        --------------  ----- \n",
      " 0   id            2903 non-null   int64 \n",
      " 1   title         2903 non-null   object\n",
      " 2   url           1128 non-null   object\n",
      " 3   num_points    2903 non-null   int64 \n",
      " 4   num_comments  2903 non-null   int64 \n",
      " 5   author        2903 non-null   object\n",
      " 6   created_at    2903 non-null   object\n",
      " 7   type          2897 non-null   object\n",
      "dtypes: int64(3), object(5)\n",
      "memory usage: 181.6+ KB\n"
     ]
    }
   ],
   "source": [
    "df.info()"
   ]
  },
  {
   "cell_type": "markdown",
   "metadata": {},
   "source": [
    "* created_at has wrong data type"
   ]
  },
  {
   "cell_type": "markdown",
   "metadata": {},
   "source": [
    "## Clean\n",
    "* convert `created_at` to datetime object"
   ]
  },
  {
   "cell_type": "code",
   "execution_count": 8,
   "metadata": {},
   "outputs": [],
   "source": [
    "df['created_at'] = pd.to_datetime(df['created_at'])"
   ]
  },
  {
   "cell_type": "markdown",
   "metadata": {},
   "source": [
    "## Test"
   ]
  },
  {
   "cell_type": "code",
   "execution_count": 9,
   "metadata": {},
   "outputs": [
    {
     "name": "stdout",
     "output_type": "stream",
     "text": [
      "<class 'pandas.core.frame.DataFrame'>\n",
      "RangeIndex: 2903 entries, 0 to 2902\n",
      "Data columns (total 8 columns):\n",
      " #   Column        Non-Null Count  Dtype         \n",
      "---  ------        --------------  -----         \n",
      " 0   id            2903 non-null   int64         \n",
      " 1   title         2903 non-null   object        \n",
      " 2   url           1128 non-null   object        \n",
      " 3   num_points    2903 non-null   int64         \n",
      " 4   num_comments  2903 non-null   int64         \n",
      " 5   author        2903 non-null   object        \n",
      " 6   created_at    2903 non-null   datetime64[ns]\n",
      " 7   type          2897 non-null   object        \n",
      "dtypes: datetime64[ns](1), int64(3), object(4)\n",
      "memory usage: 181.6+ KB\n"
     ]
    }
   ],
   "source": [
    "df.info()"
   ]
  },
  {
   "cell_type": "markdown",
   "metadata": {},
   "source": [
    "## Analysis\n",
    "After I have prepared our data I will now answer the two desired questions\n",
    "* Do Ask HN or Show HN receive more comments on average?\n",
    "* Do posts created at a certain time receive more comments on average?\n",
    "\n",
    "Let's answer the first question first\n",
    "\n",
    "### Do Ask HN or Show HN receive more comments on average?"
   ]
  },
  {
   "cell_type": "code",
   "execution_count": 10,
   "metadata": {},
   "outputs": [
    {
     "data": {
      "text/plain": [
       "Ask HN     1736\n",
       "Show HN    1161\n",
       "Name: type, dtype: int64"
      ]
     },
     "execution_count": 10,
     "metadata": {},
     "output_type": "execute_result"
    }
   ],
   "source": [
    "df.type.value_counts()"
   ]
  },
  {
   "cell_type": "code",
   "execution_count": 11,
   "metadata": {
    "scrolled": true
   },
   "outputs": [
    {
     "data": {
      "text/html": [
       "<div>\n",
       "<style scoped>\n",
       "    .dataframe tbody tr th:only-of-type {\n",
       "        vertical-align: middle;\n",
       "    }\n",
       "\n",
       "    .dataframe tbody tr th {\n",
       "        vertical-align: top;\n",
       "    }\n",
       "\n",
       "    .dataframe thead th {\n",
       "        text-align: right;\n",
       "    }\n",
       "</style>\n",
       "<table border=\"1\" class=\"dataframe\">\n",
       "  <thead>\n",
       "    <tr style=\"text-align: right;\">\n",
       "      <th></th>\n",
       "      <th>mean_num_points</th>\n",
       "      <th>mean_num_comments</th>\n",
       "    </tr>\n",
       "    <tr>\n",
       "      <th>type</th>\n",
       "      <th></th>\n",
       "      <th></th>\n",
       "    </tr>\n",
       "  </thead>\n",
       "  <tbody>\n",
       "    <tr>\n",
       "      <th>Ask HN</th>\n",
       "      <td>15.111751</td>\n",
       "      <td>14.073157</td>\n",
       "    </tr>\n",
       "    <tr>\n",
       "      <th>Show HN</th>\n",
       "      <td>27.575366</td>\n",
       "      <td>10.324720</td>\n",
       "    </tr>\n",
       "  </tbody>\n",
       "</table>\n",
       "</div>"
      ],
      "text/plain": [
       "         mean_num_points  mean_num_comments\n",
       "type                                       \n",
       "Ask HN         15.111751          14.073157\n",
       "Show HN        27.575366          10.324720"
      ]
     },
     "execution_count": 11,
     "metadata": {},
     "output_type": "execute_result"
    }
   ],
   "source": [
    "df_mean = df.groupby('type').mean()\n",
    "df_mean.drop(columns='id',inplace=True)\n",
    "df_mean.rename(columns={'num_points':'mean_num_points', 'num_comments':'mean_num_comments'}, inplace=True)\n",
    "df_mean"
   ]
  },
  {
   "cell_type": "code",
   "execution_count": 12,
   "metadata": {
    "scrolled": true
   },
   "outputs": [
    {
     "data": {
      "image/png": "[encoded data removed]",
      "text/plain": [
       "<Figure size 432x288 with 1 Axes>"
      ]
     },
     "metadata": {
      "needs_background": "light"
     },
     "output_type": "display_data"
    }
   ],
   "source": [
    "df_mean.plot(kind='bar', title= 'Average number of Points & comments for Ask & Show Posts', ylabel= 'Average number');"
   ]
  },
  {
   "cell_type": "markdown",
   "metadata": {},
   "source": [
    "From the previous analysis I conclude that:\n",
    "* The **Ask HN** posts has **Higher** Average number of **comments**.\n",
    "* The **Show HN** posts has **Higher** Average number of **points**.\n",
    "\n",
    "### Do posts created at a certain time receive more comments on average?"
   ]
  },
  {
   "cell_type": "code",
   "execution_count": 13,
   "metadata": {},
   "outputs": [
    {
     "data": {
      "text/html": [
       "<div>\n",
       "<style scoped>\n",
       "    .dataframe tbody tr th:only-of-type {\n",
       "        vertical-align: middle;\n",
       "    }\n",
       "\n",
       "    .dataframe tbody tr th {\n",
       "        vertical-align: top;\n",
       "    }\n",
       "\n",
       "    .dataframe thead th {\n",
       "        text-align: right;\n",
       "    }\n",
       "</style>\n",
       "<table border=\"1\" class=\"dataframe\">\n",
       "  <thead>\n",
       "    <tr style=\"text-align: right;\">\n",
       "      <th></th>\n",
       "      <th>created_at</th>\n",
       "      <th>num_points</th>\n",
       "      <th>num_comments</th>\n",
       "      <th>month</th>\n",
       "      <th>day</th>\n",
       "      <th>hour</th>\n",
       "    </tr>\n",
       "  </thead>\n",
       "  <tbody>\n",
       "    <tr>\n",
       "      <th>0</th>\n",
       "      <td>2016-08-16 09:55:00</td>\n",
       "      <td>2</td>\n",
       "      <td>6</td>\n",
       "      <td>August</td>\n",
       "      <td>Tuesday</td>\n",
       "      <td>09</td>\n",
       "    </tr>\n",
       "    <tr>\n",
       "      <th>1</th>\n",
       "      <td>2015-11-25 14:03:00</td>\n",
       "      <td>26</td>\n",
       "      <td>22</td>\n",
       "      <td>November</td>\n",
       "      <td>Wednesday</td>\n",
       "      <td>14</td>\n",
       "    </tr>\n",
       "    <tr>\n",
       "      <th>2</th>\n",
       "      <td>2015-11-22 13:43:00</td>\n",
       "      <td>28</td>\n",
       "      <td>29</td>\n",
       "      <td>November</td>\n",
       "      <td>Sunday</td>\n",
       "      <td>13</td>\n",
       "    </tr>\n",
       "    <tr>\n",
       "      <th>3</th>\n",
       "      <td>2016-05-02 10:14:00</td>\n",
       "      <td>1</td>\n",
       "      <td>1</td>\n",
       "      <td>May</td>\n",
       "      <td>Monday</td>\n",
       "      <td>10</td>\n",
       "    </tr>\n",
       "    <tr>\n",
       "      <th>4</th>\n",
       "      <td>2016-08-02 14:20:00</td>\n",
       "      <td>1</td>\n",
       "      <td>3</td>\n",
       "      <td>August</td>\n",
       "      <td>Tuesday</td>\n",
       "      <td>14</td>\n",
       "    </tr>\n",
       "    <tr>\n",
       "      <th>...</th>\n",
       "      <td>...</td>\n",
       "      <td>...</td>\n",
       "      <td>...</td>\n",
       "      <td>...</td>\n",
       "      <td>...</td>\n",
       "      <td>...</td>\n",
       "    </tr>\n",
       "    <tr>\n",
       "      <th>2898</th>\n",
       "      <td>2016-07-04 08:50:00</td>\n",
       "      <td>2</td>\n",
       "      <td>2</td>\n",
       "      <td>July</td>\n",
       "      <td>Monday</td>\n",
       "      <td>08</td>\n",
       "    </tr>\n",
       "    <tr>\n",
       "      <th>2899</th>\n",
       "      <td>2016-03-05 01:25:00</td>\n",
       "      <td>10</td>\n",
       "      <td>4</td>\n",
       "      <td>March</td>\n",
       "      <td>Saturday</td>\n",
       "      <td>01</td>\n",
       "    </tr>\n",
       "    <tr>\n",
       "      <th>2900</th>\n",
       "      <td>2016-05-21 09:22:00</td>\n",
       "      <td>4</td>\n",
       "      <td>2</td>\n",
       "      <td>May</td>\n",
       "      <td>Saturday</td>\n",
       "      <td>09</td>\n",
       "    </tr>\n",
       "    <tr>\n",
       "      <th>2901</th>\n",
       "      <td>2016-04-07 03:04:00</td>\n",
       "      <td>2</td>\n",
       "      <td>1</td>\n",
       "      <td>April</td>\n",
       "      <td>Thursday</td>\n",
       "      <td>03</td>\n",
       "    </tr>\n",
       "    <tr>\n",
       "      <th>2902</th>\n",
       "      <td>2016-07-23 11:35:00</td>\n",
       "      <td>6</td>\n",
       "      <td>2</td>\n",
       "      <td>July</td>\n",
       "      <td>Saturday</td>\n",
       "      <td>11</td>\n",
       "    </tr>\n",
       "  </tbody>\n",
       "</table>\n",
       "<p>2903 rows × 6 columns</p>\n",
       "</div>"
      ],
      "text/plain": [
       "              created_at  num_points  num_comments     month        day hour\n",
       "0    2016-08-16 09:55:00           2             6    August    Tuesday   09\n",
       "1    2015-11-25 14:03:00          26            22  November  Wednesday   14\n",
       "2    2015-11-22 13:43:00          28            29  November     Sunday   13\n",
       "3    2016-05-02 10:14:00           1             1       May     Monday   10\n",
       "4    2016-08-02 14:20:00           1             3    August    Tuesday   14\n",
       "...                  ...         ...           ...       ...        ...  ...\n",
       "2898 2016-07-04 08:50:00           2             2      July     Monday   08\n",
       "2899 2016-03-05 01:25:00          10             4     March   Saturday   01\n",
       "2900 2016-05-21 09:22:00           4             2       May   Saturday   09\n",
       "2901 2016-04-07 03:04:00           2             1     April   Thursday   03\n",
       "2902 2016-07-23 11:35:00           6             2      July   Saturday   11\n",
       "\n",
       "[2903 rows x 6 columns]"
      ]
     },
     "execution_count": 13,
     "metadata": {},
     "output_type": "execute_result"
    }
   ],
   "source": [
    "df_time = df[['created_at', 'num_points', 'num_comments']].copy()\n",
    "df_time['month'] = df['created_at'].dt.strftime('%B');\n",
    "df_time['day'] = df['created_at'].dt.strftime('%A');\n",
    "df_time['hour'] = df['created_at'].dt.strftime('%H');\n",
    "df_time"
   ]
  },
  {
   "cell_type": "code",
   "execution_count": 14,
   "metadata": {},
   "outputs": [
    {
     "data": {
      "text/html": [
       "<div>\n",
       "<style scoped>\n",
       "    .dataframe tbody tr th:only-of-type {\n",
       "        vertical-align: middle;\n",
       "    }\n",
       "\n",
       "    .dataframe tbody tr th {\n",
       "        vertical-align: top;\n",
       "    }\n",
       "\n",
       "    .dataframe thead th {\n",
       "        text-align: right;\n",
       "    }\n",
       "</style>\n",
       "<table border=\"1\" class=\"dataframe\">\n",
       "  <thead>\n",
       "    <tr style=\"text-align: right;\">\n",
       "      <th></th>\n",
       "      <th>num_points</th>\n",
       "      <th>num_comments</th>\n",
       "    </tr>\n",
       "    <tr>\n",
       "      <th>month</th>\n",
       "      <th></th>\n",
       "      <th></th>\n",
       "    </tr>\n",
       "  </thead>\n",
       "  <tbody>\n",
       "    <tr>\n",
       "      <th>April</th>\n",
       "      <td>20.562500</td>\n",
       "      <td>11.035714</td>\n",
       "    </tr>\n",
       "    <tr>\n",
       "      <th>August</th>\n",
       "      <td>25.062992</td>\n",
       "      <td>18.019685</td>\n",
       "    </tr>\n",
       "    <tr>\n",
       "      <th>December</th>\n",
       "      <td>12.601990</td>\n",
       "      <td>8.233831</td>\n",
       "    </tr>\n",
       "    <tr>\n",
       "      <th>February</th>\n",
       "      <td>18.296460</td>\n",
       "      <td>8.765487</td>\n",
       "    </tr>\n",
       "    <tr>\n",
       "      <th>January</th>\n",
       "      <td>19.355212</td>\n",
       "      <td>12.625483</td>\n",
       "    </tr>\n",
       "    <tr>\n",
       "      <th>July</th>\n",
       "      <td>18.308696</td>\n",
       "      <td>10.173913</td>\n",
       "    </tr>\n",
       "    <tr>\n",
       "      <th>June</th>\n",
       "      <td>27.390244</td>\n",
       "      <td>14.692683</td>\n",
       "    </tr>\n",
       "    <tr>\n",
       "      <th>March</th>\n",
       "      <td>23.232472</td>\n",
       "      <td>14.516605</td>\n",
       "    </tr>\n",
       "    <tr>\n",
       "      <th>May</th>\n",
       "      <td>18.772093</td>\n",
       "      <td>17.195349</td>\n",
       "    </tr>\n",
       "    <tr>\n",
       "      <th>November</th>\n",
       "      <td>17.884615</td>\n",
       "      <td>10.521368</td>\n",
       "    </tr>\n",
       "    <tr>\n",
       "      <th>October</th>\n",
       "      <td>14.354260</td>\n",
       "      <td>9.130045</td>\n",
       "    </tr>\n",
       "    <tr>\n",
       "      <th>September</th>\n",
       "      <td>22.387812</td>\n",
       "      <td>13.897507</td>\n",
       "    </tr>\n",
       "  </tbody>\n",
       "</table>\n",
       "</div>"
      ],
      "text/plain": [
       "           num_points  num_comments\n",
       "month                              \n",
       "April       20.562500     11.035714\n",
       "August      25.062992     18.019685\n",
       "December    12.601990      8.233831\n",
       "February    18.296460      8.765487\n",
       "January     19.355212     12.625483\n",
       "July        18.308696     10.173913\n",
       "June        27.390244     14.692683\n",
       "March       23.232472     14.516605\n",
       "May         18.772093     17.195349\n",
       "November    17.884615     10.521368\n",
       "October     14.354260      9.130045\n",
       "September   22.387812     13.897507"
      ]
     },
     "execution_count": 14,
     "metadata": {},
     "output_type": "execute_result"
    }
   ],
   "source": [
    "df_month = df_time.groupby(['month']).mean()\n",
    "df_month"
   ]
  },
  {
   "cell_type": "code",
   "execution_count": 15,
   "metadata": {
    "scrolled": true
   },
   "outputs": [
    {
     "data": {
      "image/png": "[encoded data removed]",
      "text/plain": [
       "<Figure size 432x288 with 1 Axes>"
      ]
     },
     "metadata": {
      "needs_background": "light"
     },
     "output_type": "display_data"
    }
   ],
   "source": [
    "df_month.plot(y= 'num_comments',kind='bar', title= 'Average number of comments for each Month', ylabel= 'Average number of comments');"
   ]
  },
  {
   "cell_type": "markdown",
   "metadata": {},
   "source": [
    "Analyzing the months I find out that:\n",
    "* **August** has the highest average number of comments"
   ]
  },
  {
   "cell_type": "code",
   "execution_count": 16,
   "metadata": {
    "scrolled": true
   },
   "outputs": [
    {
     "data": {
      "text/html": [
       "<div>\n",
       "<style scoped>\n",
       "    .dataframe tbody tr th:only-of-type {\n",
       "        vertical-align: middle;\n",
       "    }\n",
       "\n",
       "    .dataframe tbody tr th {\n",
       "        vertical-align: top;\n",
       "    }\n",
       "\n",
       "    .dataframe thead th {\n",
       "        text-align: right;\n",
       "    }\n",
       "</style>\n",
       "<table border=\"1\" class=\"dataframe\">\n",
       "  <thead>\n",
       "    <tr style=\"text-align: right;\">\n",
       "      <th></th>\n",
       "      <th>num_points</th>\n",
       "      <th>num_comments</th>\n",
       "    </tr>\n",
       "    <tr>\n",
       "      <th>day</th>\n",
       "      <th></th>\n",
       "      <th></th>\n",
       "    </tr>\n",
       "  </thead>\n",
       "  <tbody>\n",
       "    <tr>\n",
       "      <th>Friday</th>\n",
       "      <td>21.266504</td>\n",
       "      <td>14.863081</td>\n",
       "    </tr>\n",
       "    <tr>\n",
       "      <th>Monday</th>\n",
       "      <td>20.621677</td>\n",
       "      <td>12.083845</td>\n",
       "    </tr>\n",
       "    <tr>\n",
       "      <th>Saturday</th>\n",
       "      <td>16.852740</td>\n",
       "      <td>12.732877</td>\n",
       "    </tr>\n",
       "    <tr>\n",
       "      <th>Sunday</th>\n",
       "      <td>28.675373</td>\n",
       "      <td>16.119403</td>\n",
       "    </tr>\n",
       "    <tr>\n",
       "      <th>Thursday</th>\n",
       "      <td>19.381166</td>\n",
       "      <td>11.959641</td>\n",
       "    </tr>\n",
       "    <tr>\n",
       "      <th>Tuesday</th>\n",
       "      <td>16.505112</td>\n",
       "      <td>10.646217</td>\n",
       "    </tr>\n",
       "    <tr>\n",
       "      <th>Wednesday</th>\n",
       "      <td>19.952941</td>\n",
       "      <td>11.543137</td>\n",
       "    </tr>\n",
       "  </tbody>\n",
       "</table>\n",
       "</div>"
      ],
      "text/plain": [
       "           num_points  num_comments\n",
       "day                                \n",
       "Friday      21.266504     14.863081\n",
       "Monday      20.621677     12.083845\n",
       "Saturday    16.852740     12.732877\n",
       "Sunday      28.675373     16.119403\n",
       "Thursday    19.381166     11.959641\n",
       "Tuesday     16.505112     10.646217\n",
       "Wednesday   19.952941     11.543137"
      ]
     },
     "execution_count": 16,
     "metadata": {},
     "output_type": "execute_result"
    }
   ],
   "source": [
    "df_day = df_time.groupby('day').mean()\n",
    "df_day"
   ]
  },
  {
   "cell_type": "code",
   "execution_count": 17,
   "metadata": {},
   "outputs": [
    {
     "data": {
      "image/png": "[encoded data removed]",
      "text/plain": [
       "<Figure size 432x288 with 1 Axes>"
      ]
     },
     "metadata": {
      "needs_background": "light"
     },
     "output_type": "display_data"
    }
   ],
   "source": [
    "df_day.plot(y= 'num_comments',kind='bar', title= 'Average number of comments for each Day', ylabel= 'Average number of comments');"
   ]
  },
  {
   "cell_type": "markdown",
   "metadata": {},
   "source": [
    "Analyzing the days I find out that:\n",
    "\n",
    "* **Sunday** has the highest average number of comments"
   ]
  },
  {
   "cell_type": "code",
   "execution_count": 18,
   "metadata": {},
   "outputs": [
    {
     "data": {
      "text/html": [
       "<div>\n",
       "<style scoped>\n",
       "    .dataframe tbody tr th:only-of-type {\n",
       "        vertical-align: middle;\n",
       "    }\n",
       "\n",
       "    .dataframe tbody tr th {\n",
       "        vertical-align: top;\n",
       "    }\n",
       "\n",
       "    .dataframe thead th {\n",
       "        text-align: right;\n",
       "    }\n",
       "</style>\n",
       "<table border=\"1\" class=\"dataframe\">\n",
       "  <thead>\n",
       "    <tr style=\"text-align: right;\">\n",
       "      <th></th>\n",
       "      <th>num_points</th>\n",
       "      <th>num_comments</th>\n",
       "    </tr>\n",
       "    <tr>\n",
       "      <th>hour</th>\n",
       "      <th></th>\n",
       "      <th></th>\n",
       "    </tr>\n",
       "  </thead>\n",
       "  <tbody>\n",
       "    <tr>\n",
       "      <th>00</th>\n",
       "      <td>19.082353</td>\n",
       "      <td>10.894118</td>\n",
       "    </tr>\n",
       "    <tr>\n",
       "      <th>01</th>\n",
       "      <td>15.909091</td>\n",
       "      <td>10.556818</td>\n",
       "    </tr>\n",
       "    <tr>\n",
       "      <th>02</th>\n",
       "      <td>12.875000</td>\n",
       "      <td>17.136364</td>\n",
       "    </tr>\n",
       "    <tr>\n",
       "      <th>03</th>\n",
       "      <td>13.000000</td>\n",
       "      <td>8.740741</td>\n",
       "    </tr>\n",
       "    <tr>\n",
       "      <th>04</th>\n",
       "      <td>10.616438</td>\n",
       "      <td>8.000000</td>\n",
       "    </tr>\n",
       "    <tr>\n",
       "      <th>05</th>\n",
       "      <td>10.092308</td>\n",
       "      <td>8.030769</td>\n",
       "    </tr>\n",
       "    <tr>\n",
       "      <th>06</th>\n",
       "      <td>16.100000</td>\n",
       "      <td>8.983333</td>\n",
       "    </tr>\n",
       "    <tr>\n",
       "      <th>07</th>\n",
       "      <td>14.250000</td>\n",
       "      <td>9.433333</td>\n",
       "    </tr>\n",
       "    <tr>\n",
       "      <th>08</th>\n",
       "      <td>12.609756</td>\n",
       "      <td>8.012195</td>\n",
       "    </tr>\n",
       "    <tr>\n",
       "      <th>09</th>\n",
       "      <td>11.760000</td>\n",
       "      <td>7.226667</td>\n",
       "    </tr>\n",
       "    <tr>\n",
       "      <th>10</th>\n",
       "      <td>18.768421</td>\n",
       "      <td>11.473684</td>\n",
       "    </tr>\n",
       "    <tr>\n",
       "      <th>11</th>\n",
       "      <td>22.598039</td>\n",
       "      <td>11.098039</td>\n",
       "    </tr>\n",
       "    <tr>\n",
       "      <th>12</th>\n",
       "      <td>24.813433</td>\n",
       "      <td>10.500000</td>\n",
       "    </tr>\n",
       "    <tr>\n",
       "      <th>13</th>\n",
       "      <td>24.456522</td>\n",
       "      <td>11.951087</td>\n",
       "    </tr>\n",
       "    <tr>\n",
       "      <th>14</th>\n",
       "      <td>17.974093</td>\n",
       "      <td>13.326425</td>\n",
       "    </tr>\n",
       "    <tr>\n",
       "      <th>15</th>\n",
       "      <td>29.549223</td>\n",
       "      <td>26.466321</td>\n",
       "    </tr>\n",
       "    <tr>\n",
       "      <th>16</th>\n",
       "      <td>25.651741</td>\n",
       "      <td>14.417910</td>\n",
       "    </tr>\n",
       "    <tr>\n",
       "      <th>17</th>\n",
       "      <td>23.119171</td>\n",
       "      <td>10.658031</td>\n",
       "    </tr>\n",
       "    <tr>\n",
       "      <th>18</th>\n",
       "      <td>23.396450</td>\n",
       "      <td>14.153846</td>\n",
       "    </tr>\n",
       "    <tr>\n",
       "      <th>19</th>\n",
       "      <td>19.484848</td>\n",
       "      <td>10.466667</td>\n",
       "    </tr>\n",
       "    <tr>\n",
       "      <th>20</th>\n",
       "      <td>21.214286</td>\n",
       "      <td>16.671429</td>\n",
       "    </tr>\n",
       "    <tr>\n",
       "      <th>21</th>\n",
       "      <td>16.583333</td>\n",
       "      <td>12.929487</td>\n",
       "    </tr>\n",
       "    <tr>\n",
       "      <th>22</th>\n",
       "      <td>20.230769</td>\n",
       "      <td>8.965812</td>\n",
       "    </tr>\n",
       "    <tr>\n",
       "      <th>23</th>\n",
       "      <td>20.259615</td>\n",
       "      <td>9.519231</td>\n",
       "    </tr>\n",
       "  </tbody>\n",
       "</table>\n",
       "</div>"
      ],
      "text/plain": [
       "      num_points  num_comments\n",
       "hour                          \n",
       "00     19.082353     10.894118\n",
       "01     15.909091     10.556818\n",
       "02     12.875000     17.136364\n",
       "03     13.000000      8.740741\n",
       "04     10.616438      8.000000\n",
       "05     10.092308      8.030769\n",
       "06     16.100000      8.983333\n",
       "07     14.250000      9.433333\n",
       "08     12.609756      8.012195\n",
       "09     11.760000      7.226667\n",
       "10     18.768421     11.473684\n",
       "11     22.598039     11.098039\n",
       "12     24.813433     10.500000\n",
       "13     24.456522     11.951087\n",
       "14     17.974093     13.326425\n",
       "15     29.549223     26.466321\n",
       "16     25.651741     14.417910\n",
       "17     23.119171     10.658031\n",
       "18     23.396450     14.153846\n",
       "19     19.484848     10.466667\n",
       "20     21.214286     16.671429\n",
       "21     16.583333     12.929487\n",
       "22     20.230769      8.965812\n",
       "23     20.259615      9.519231"
      ]
     },
     "execution_count": 18,
     "metadata": {},
     "output_type": "execute_result"
    }
   ],
   "source": [
    "df_hour = df_time.groupby('hour').mean()\n",
    "df_hour"
   ]
  },
  {
   "cell_type": "code",
   "execution_count": 19,
   "metadata": {
    "scrolled": true
   },
   "outputs": [
    {
     "data": {
      "image/png": "[encoded data removed]",
      "text/plain": [
       "<Figure size 576x288 with 1 Axes>"
      ]
     },
     "metadata": {
      "needs_background": "light"
     },
     "output_type": "display_data"
    }
   ],
   "source": [
    "df_hour.plot(y= 'num_comments',kind='bar', figsize=(8,4), title= 'Average number of comments for each Hour', ylabel= 'Average number of comments');"
   ]
  },
  {
   "cell_type": "markdown",
   "metadata": {},
   "source": [
    "Analyzing the hours we find out that:\n",
    "\n",
    "* **3 p.m** has the highest average number of comments"
   ]
  },
  {
   "cell_type": "markdown",
   "metadata": {},
   "source": [
    "## Conclusion\n",
    "* The Ask HN posts has Higher Average number of comments (\\~14) while the Show HN has (\\~10).\n",
    "* The Show HN posts has Higher Average number of points (\\~27) while the Ask HN has (\\~15).\n",
    "* August has the highest average number of comments.\n",
    "* Sunday has the highest average number of comments.\n",
    "* 3 p.m has the highest average number of comments."
   ]
  },
  {
   "cell_type": "markdown",
   "metadata": {},
   "source": [
    "## Acknowledgement\n",
    "\n",
    "This project is a guided project provided by Dataquest to understand and practice fundamentals of Python for Data Science."
   ]
  }
 ],
 "metadata": {
  "kernelspec": {
   "display_name": "Python 3",
   "language": "python",
   "name": "python3"
  },
  "language_info": {
   "codemirror_mode": {
    "name": "ipython",
    "version": 3
   },
   "file_extension": ".py",
   "mimetype": "text/x-python",
   "name": "python",
   "nbconvert_exporter": "python",
   "pygments_lexer": "ipython3",
   "version": "3.8.5"
  }
 },
 "nbformat": 4,
 "nbformat_minor": 4
}
